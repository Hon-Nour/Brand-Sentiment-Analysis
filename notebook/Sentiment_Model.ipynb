{
 "cells": [
  {
   "cell_type": "markdown",
   "metadata": {},
   "source": [
    "## **Twitter Sentiment Analysis** \n",
    "## **Usecase: PiggyVest**\n",
    "\n",
    "### Overview\n",
    "This notebook extracts and analyzes sentiment in tweets about PiggyVest using Natural Language Processing. The analysis involves data preprocessing, sentiment analysis using pre-trained models, and comparison of results between raw and cleaned data. The notebook is structured as follows:\n",
    "1. Data Import and Initial Inspection\n",
    "2. Data Preprocessing\n",
    "3. Sentiment Analysis\n",
    "4. Results and Evaluation"
   ]
  },
  {
   "cell_type": "code",
   "execution_count": 139,
   "metadata": {},
   "outputs": [],
   "source": [
    "import pandas as pd\n",
    "import numpy as np\n",
    "import matplotlib.pyplot as plt\n",
    "import seaborn as sns\n",
    "import spacy\n",
    "import ipywidgets as widgets\n",
    "from IPython.display import display\n",
    "# import librabries\n",
    "import snowflake.connector\n",
    "import getpass\n",
    "\n",
    "import warnings\n",
    "warnings.filterwarnings('ignore')"
   ]
  },
  {
   "cell_type": "code",
   "execution_count": null,
   "metadata": {},
   "outputs": [],
   "source": [
    "nlp = spacy.load('en_core_web_lg')"
   ]
  },
  {
   "cell_type": "markdown",
   "metadata": {},
   "source": [
    "### **DATA IMPORT AND INITIAL INSPECTION**\n",
    "Let's start by collecting our data from the Snowflake warehouse, then understanding the structure and size of the dataset. We'll look at the first few rows and check the dimensions to get an idea of what we're working with.\n"
   ]
  },
  {
   "cell_type": "code",
   "execution_count": null,
   "metadata": {},
   "outputs": [],
   "source": [
    "# Prompt for to enter secrets securely\n",
    "user = getpass.getpass(prompt='Enter your Snowflake username: ')\n",
    "password = getpass.getpass(prompt='Enter your Snowflake password: ')"
   ]
  },
  {
   "cell_type": "code",
   "execution_count": 2,
   "metadata": {},
   "outputs": [],
   "source": [
    "# Establish the connection using the masked password\n",
    "ctx = snowflake.connector.connect(\n",
    "    user=user,\n",
    "    password=password,\n",
    "    account='hi37226.eu-north-1.aws',\n",
    "    warehouse='sentiment_warehouse',\n",
    "    database='sentiment_database',\n",
    "    schema='sentiment_schema'\n",
    ")"
   ]
  },
  {
   "cell_type": "code",
   "execution_count": null,
   "metadata": {},
   "outputs": [],
   "source": [
    "# Create a cursor object\n",
    "cur = ctx.cursor()"
   ]
  },
  {
   "cell_type": "code",
   "execution_count": null,
   "metadata": {},
   "outputs": [],
   "source": [
    "# Execute a query\n",
    "cur.execute(\"SELECT * FROM sentiment_database.sentiment_schema.dim_tweets\")"
   ]
  },
  {
   "cell_type": "code",
   "execution_count": 154,
   "metadata": {},
   "outputs": [],
   "source": [
    "# Fetch and print the result\n",
    "tweets = cur.fetch_pandas_all()\n",
    "data = tweets.copy()"
   ]
  },
  {
   "cell_type": "code",
   "execution_count": 155,
   "metadata": {},
   "outputs": [
    {
     "data": {
      "text/html": [
       "<div>\n",
       "<style scoped>\n",
       "    .dataframe tbody tr th:only-of-type {\n",
       "        vertical-align: middle;\n",
       "    }\n",
       "\n",
       "    .dataframe tbody tr th {\n",
       "        vertical-align: top;\n",
       "    }\n",
       "\n",
       "    .dataframe thead th {\n",
       "        text-align: right;\n",
       "    }\n",
       "</style>\n",
       "<table border=\"1\" class=\"dataframe\">\n",
       "  <thead>\n",
       "    <tr style=\"text-align: right;\">\n",
       "      <th></th>\n",
       "      <th>TWEET_ID</th>\n",
       "      <th>USER_ID</th>\n",
       "      <th>CREATED_AT</th>\n",
       "      <th>TEXT</th>\n",
       "      <th>URL</th>\n",
       "      <th>MENTIONS</th>\n",
       "      <th>LANG</th>\n",
       "      <th>FAVOURITES</th>\n",
       "      <th>RETWEETS</th>\n",
       "      <th>REPLIES</th>\n",
       "      <th>QUOTES</th>\n",
       "      <th>VIEW_COUNT</th>\n",
       "      <th>HASHTAGS</th>\n",
       "    </tr>\n",
       "  </thead>\n",
       "  <tbody>\n",
       "    <tr>\n",
       "      <th>0</th>\n",
       "      <td>1819681803604508810</td>\n",
       "      <td>886083200</td>\n",
       "      <td>2024-08-03 10:28:44.000 Z</td>\n",
       "      <td>Piggyvest is a life saver. I'm introducing thi...</td>\n",
       "      <td>NaN</td>\n",
       "      <td>NaN</td>\n",
       "      <td>en</td>\n",
       "      <td>7</td>\n",
       "      <td>2</td>\n",
       "      <td>5</td>\n",
       "      <td>0</td>\n",
       "      <td>1715.0</td>\n",
       "      <td>NaN</td>\n",
       "    </tr>\n",
       "    <tr>\n",
       "      <th>1</th>\n",
       "      <td>1819477474595545568</td>\n",
       "      <td>1761141472781279232</td>\n",
       "      <td>2024-08-02 20:56:48.000 Z</td>\n",
       "      <td>PiggyVest go think say I don die</td>\n",
       "      <td>https://t.co/rME1dNHNjK</td>\n",
       "      <td>NaN</td>\n",
       "      <td>en</td>\n",
       "      <td>3</td>\n",
       "      <td>0</td>\n",
       "      <td>1</td>\n",
       "      <td>0</td>\n",
       "      <td>47.0</td>\n",
       "      <td>NaN</td>\n",
       "    </tr>\n",
       "    <tr>\n",
       "      <th>2</th>\n",
       "      <td>1819379501471535188</td>\n",
       "      <td>1249897379207286784</td>\n",
       "      <td>2024-08-02 14:27:30.000 Z</td>\n",
       "      <td>Use piggyvest bros</td>\n",
       "      <td>NaN</td>\n",
       "      <td>NaN</td>\n",
       "      <td>lt</td>\n",
       "      <td>1</td>\n",
       "      <td>0</td>\n",
       "      <td>1</td>\n",
       "      <td>1</td>\n",
       "      <td>14263.0</td>\n",
       "      <td>NaN</td>\n",
       "    </tr>\n",
       "    <tr>\n",
       "      <th>3</th>\n",
       "      <td>1819764467078508980</td>\n",
       "      <td>1759572460301672448</td>\n",
       "      <td>2024-08-03 15:57:13.000 Z</td>\n",
       "      <td>Piggyvest needs to stop me from withdrawing</td>\n",
       "      <td>NaN</td>\n",
       "      <td>NaN</td>\n",
       "      <td>en</td>\n",
       "      <td>1</td>\n",
       "      <td>0</td>\n",
       "      <td>1</td>\n",
       "      <td>0</td>\n",
       "      <td>66.0</td>\n",
       "      <td>NaN</td>\n",
       "    </tr>\n",
       "    <tr>\n",
       "      <th>4</th>\n",
       "      <td>1819440896863281310</td>\n",
       "      <td>1081875638573809664</td>\n",
       "      <td>2024-08-02 18:31:28.000 Z</td>\n",
       "      <td>My female friend sent me a screenshot of her s...</td>\n",
       "      <td>NaN</td>\n",
       "      <td>NaN</td>\n",
       "      <td>en</td>\n",
       "      <td>56</td>\n",
       "      <td>22</td>\n",
       "      <td>10</td>\n",
       "      <td>0</td>\n",
       "      <td>2969.0</td>\n",
       "      <td>NaN</td>\n",
       "    </tr>\n",
       "  </tbody>\n",
       "</table>\n",
       "</div>"
      ],
      "text/plain": [
       "              TWEET_ID              USER_ID                 CREATED_AT  \\\n",
       "0  1819681803604508810            886083200  2024-08-03 10:28:44.000 Z   \n",
       "1  1819477474595545568  1761141472781279232  2024-08-02 20:56:48.000 Z   \n",
       "2  1819379501471535188  1249897379207286784  2024-08-02 14:27:30.000 Z   \n",
       "3  1819764467078508980  1759572460301672448  2024-08-03 15:57:13.000 Z   \n",
       "4  1819440896863281310  1081875638573809664  2024-08-02 18:31:28.000 Z   \n",
       "\n",
       "                                                TEXT                      URL  \\\n",
       "0  Piggyvest is a life saver. I'm introducing thi...                      NaN   \n",
       "1                  PiggyVest go think say I don die   https://t.co/rME1dNHNjK   \n",
       "2                                 Use piggyvest bros                      NaN   \n",
       "3        Piggyvest needs to stop me from withdrawing                      NaN   \n",
       "4  My female friend sent me a screenshot of her s...                      NaN   \n",
       "\n",
       "  MENTIONS LANG  FAVOURITES  RETWEETS  REPLIES  QUOTES  VIEW_COUNT HASHTAGS  \n",
       "0      NaN   en           7         2        5       0      1715.0      NaN  \n",
       "1      NaN   en           3         0        1       0        47.0      NaN  \n",
       "2      NaN   lt           1         0        1       1     14263.0      NaN  \n",
       "3      NaN   en           1         0        1       0        66.0      NaN  \n",
       "4      NaN   en          56        22       10       0      2969.0      NaN  "
      ]
     },
     "execution_count": 155,
     "metadata": {},
     "output_type": "execute_result"
    }
   ],
   "source": [
    "data.head()"
   ]
  },
  {
   "cell_type": "code",
   "execution_count": 156,
   "metadata": {},
   "outputs": [
    {
     "data": {
      "text/plain": [
       "(1332, 13)"
      ]
     },
     "execution_count": 156,
     "metadata": {},
     "output_type": "execute_result"
    }
   ],
   "source": [
    "data.shape"
   ]
  },
  {
   "cell_type": "code",
   "execution_count": 157,
   "metadata": {},
   "outputs": [
    {
     "data": {
      "image/png": "[encoded data removed]",
      "text/plain": [
       "<Figure size 1000x600 with 1 Axes>"
      ]
     },
     "metadata": {},
     "output_type": "display_data"
    }
   ],
   "source": [
    "# Visualizing the distribution of tweet lengths\n",
    "tweet_lengths = data['TEXT'].apply(len)\n",
    "plt.figure(figsize=(10, 6))\n",
    "plt.hist(tweet_lengths, bins=50, color='skyblue', edgecolor='black')\n",
    "plt.title('Distribution of Tweet Lengths')\n",
    "plt.xlabel('Length of Tweet')\n",
    "plt.ylabel('Frequency')\n",
    "plt.show()"
   ]
  },
  {
   "cell_type": "markdown",
   "metadata": {},
   "source": [
    "> More than 90% of the tweets have contain less than 500 characters, which is suitable for the model to handle"
   ]
  },
  {
   "cell_type": "markdown",
   "metadata": {},
   "source": [
    "### **DATA PREPROCESSING**\n",
    "Text data often contains noise such as special characters, links, and stopwords. This section outlines the preprocessing steps applied to clean the text data before sentiment analysis."
   ]
  },
  {
   "cell_type": "code",
   "execution_count": 6,
   "metadata": {},
   "outputs": [],
   "source": [
    "def preprocess(text):\n",
    "    \"\"\"\n",
    "    Preprocesses the input text by removing special characters and stopwords.\n",
    "    \n",
    "    Parameters:\n",
    "    text (str): The raw tweet text.\n",
    "\n",
    "    Returns:\n",
    "    str: The cleaned, preprocessed text.\n",
    "    \"\"\"\n",
    "    preprocessed_text = []\n",
    "    doc = nlp(text) \n",
    "    for i in doc:\n",
    "        if i.is_stop or i.is_punct:\n",
    "            continue\n",
    "        preprocessed_text.append(i.lemma_.lower())\n",
    "        \n",
    "    return ' '.join(preprocessed_text)\n",
    "    "
   ]
  },
  {
   "cell_type": "code",
   "execution_count": 158,
   "metadata": {},
   "outputs": [],
   "source": [
    "data['PREPROCESSED_TEXT'] = data['TEXT'].apply(preprocess)"
   ]
  },
  {
   "cell_type": "code",
   "execution_count": 17,
   "metadata": {},
   "outputs": [
    {
     "data": {
      "text/html": [
       "<div>\n",
       "<style scoped>\n",
       "    .dataframe tbody tr th:only-of-type {\n",
       "        vertical-align: middle;\n",
       "    }\n",
       "\n",
       "    .dataframe tbody tr th {\n",
       "        vertical-align: top;\n",
       "    }\n",
       "\n",
       "    .dataframe thead th {\n",
       "        text-align: right;\n",
       "    }\n",
       "</style>\n",
       "<table border=\"1\" class=\"dataframe\">\n",
       "  <thead>\n",
       "    <tr style=\"text-align: right;\">\n",
       "      <th></th>\n",
       "      <th>TEXT</th>\n",
       "      <th>PREPROCESSED_TEXT</th>\n",
       "    </tr>\n",
       "  </thead>\n",
       "  <tbody>\n",
       "    <tr>\n",
       "      <th>0</th>\n",
       "      <td>Piggyvest is a life saver. I'm introducing thi...</td>\n",
       "      <td>piggyvest life saver introduce friend</td>\n",
       "    </tr>\n",
       "    <tr>\n",
       "      <th>1</th>\n",
       "      <td>PiggyVest go think say I don die</td>\n",
       "      <td>piggyvest think don die</td>\n",
       "    </tr>\n",
       "    <tr>\n",
       "      <th>2</th>\n",
       "      <td>Use piggyvest bros</td>\n",
       "      <td>use piggyvest bro</td>\n",
       "    </tr>\n",
       "    <tr>\n",
       "      <th>3</th>\n",
       "      <td>Piggyvest needs to stop me from withdrawing</td>\n",
       "      <td>piggyvest need stop withdraw</td>\n",
       "    </tr>\n",
       "    <tr>\n",
       "      <th>4</th>\n",
       "      <td>My female friend sent me a screenshot of her s...</td>\n",
       "      <td>female friend send screenshot saving jollof   ...</td>\n",
       "    </tr>\n",
       "    <tr>\n",
       "      <th>...</th>\n",
       "      <td>...</td>\n",
       "      <td>...</td>\n",
       "    </tr>\n",
       "    <tr>\n",
       "      <th>1327</th>\n",
       "      <td>To Piggyvests dpo, your privacy policy has som...</td>\n",
       "      <td>piggyvests dpo privacy policy gap patent one i...</td>\n",
       "    </tr>\n",
       "    <tr>\n",
       "      <th>1328</th>\n",
       "      <td>Any 10k you see this period, hold an tight Loc...</td>\n",
       "      <td>10k period hold tight lock papa piggyvest blin...</td>\n",
       "    </tr>\n",
       "    <tr>\n",
       "      <th>1329</th>\n",
       "      <td>Nigerian woman math.  GTB  N2,430. 53 PIGGYVES...</td>\n",
       "      <td>nigerian woman math   gtb   n2,430 53 piggyves...</td>\n",
       "    </tr>\n",
       "    <tr>\n",
       "      <th>1330</th>\n",
       "      <td>I wish piggyvest can find a solution to breaki...</td>\n",
       "      <td>wish piggyv find solution break locked fund ne...</td>\n",
       "    </tr>\n",
       "    <tr>\n",
       "      <th>1331</th>\n",
       "      <td>I have seen tweets today about men equating pi...</td>\n",
       "      <td>see tweet today man equate piggyvest feminineg...</td>\n",
       "    </tr>\n",
       "  </tbody>\n",
       "</table>\n",
       "<p>1332 rows × 2 columns</p>\n",
       "</div>"
      ],
      "text/plain": [
       "                                                   TEXT  \\\n",
       "0     Piggyvest is a life saver. I'm introducing thi...   \n",
       "1                     PiggyVest go think say I don die    \n",
       "2                                    Use piggyvest bros   \n",
       "3           Piggyvest needs to stop me from withdrawing   \n",
       "4     My female friend sent me a screenshot of her s...   \n",
       "...                                                 ...   \n",
       "1327  To Piggyvests dpo, your privacy policy has som...   \n",
       "1328  Any 10k you see this period, hold an tight Loc...   \n",
       "1329  Nigerian woman math.  GTB  N2,430. 53 PIGGYVES...   \n",
       "1330  I wish piggyvest can find a solution to breaki...   \n",
       "1331  I have seen tweets today about men equating pi...   \n",
       "\n",
       "                                      PREPROCESSED_TEXT  \n",
       "0                 piggyvest life saver introduce friend  \n",
       "1                               piggyvest think don die  \n",
       "2                                     use piggyvest bro  \n",
       "3                          piggyvest need stop withdraw  \n",
       "4     female friend send screenshot saving jollof   ...  \n",
       "...                                                 ...  \n",
       "1327  piggyvests dpo privacy policy gap patent one i...  \n",
       "1328  10k period hold tight lock papa piggyvest blin...  \n",
       "1329  nigerian woman math   gtb   n2,430 53 piggyves...  \n",
       "1330  wish piggyv find solution break locked fund ne...  \n",
       "1331  see tweet today man equate piggyvest feminineg...  \n",
       "\n",
       "[1332 rows x 2 columns]"
      ]
     },
     "execution_count": 17,
     "metadata": {},
     "output_type": "execute_result"
    }
   ],
   "source": [
    "data[['TEXT', 'PREPROCESSED_TEXT']]"
   ]
  },
  {
   "cell_type": "markdown",
   "metadata": {},
   "source": [
    "### **SENTIMENT ANALYSIS**\n",
    "We will use a pre-trained transformer model to classify the sentiment of each tweet. The model is fine-tuned for sentiment analysis and will categorize tweets into positive, negative, or neutral sentiments.\n"
   ]
  },
  {
   "cell_type": "code",
   "execution_count": 25,
   "metadata": {},
   "outputs": [],
   "source": [
    "from transformers import AutoTokenizer\n",
    "from transformers import AutoModelForSequenceClassification\n",
    "from scipy.special import softmax\n",
    "from tqdm.notebook import tqdm"
   ]
  },
  {
   "cell_type": "code",
   "execution_count": 10,
   "metadata": {},
   "outputs": [
    {
     "name": "stderr",
     "output_type": "stream",
     "text": [
      "c:\\Users\\HP\\AppData\\Local\\Programs\\Python\\Python310\\lib\\site-packages\\torch\\_utils.py:831: UserWarning: TypedStorage is deprecated. It will be removed in the future and UntypedStorage will be the only storage class. This should only matter to you if you are using storages directly.  To access UntypedStorage directly, use tensor.untyped_storage() instead of tensor.storage()\n",
      "  return self.fget.__get__(instance, owner)()\n",
      "Some weights of the model checkpoint at C:\\Users\\HP\\Documents\\projects\\Sentiment Analysis\\model were not used when initializing RobertaForSequenceClassification: ['roberta.pooler.dense.bias', 'roberta.pooler.dense.weight']\n",
      "- This IS expected if you are initializing RobertaForSequenceClassification from the checkpoint of a model trained on another task or with another architecture (e.g. initializing a BertForSequenceClassification model from a BertForPreTraining model).\n",
      "- This IS NOT expected if you are initializing RobertaForSequenceClassification from the checkpoint of a model that you expect to be exactly identical (initializing a BertForSequenceClassification model from a BertForSequenceClassification model).\n"
     ]
    }
   ],
   "source": [
    "model_path = r\"C:\\Users\\HP\\Documents\\projects\\Sentiment Analysis\\model\"\n",
    "\n",
    "tokenizer = AutoTokenizer.from_pretrained(model_path)\n",
    "model = AutoModelForSequenceClassification.from_pretrained(model_path)"
   ]
  },
  {
   "cell_type": "code",
   "execution_count": 22,
   "metadata": {},
   "outputs": [],
   "source": [
    "def analyze(text, padding='max_length', max_length=514):    \n",
    "    encode_text = tokenizer(text, return_tensors='pt')\n",
    "    output = model(**encode_text)\n",
    "    scores = output[0][0].detach().numpy()\n",
    "    scores = softmax(scores)\n",
    "    scores_dict = {\n",
    "        'Negative' : scores[0],\n",
    "        'Neutral' : scores[1],\n",
    "        'Positive' : scores[2]\n",
    "    }\n",
    "    max_key = max(scores_dict, key=scores_dict.get)\n",
    "    \n",
    "    return max_key"
   ]
  },
  {
   "cell_type": "markdown",
   "metadata": {},
   "source": [
    "#### **Sentiment Analysis on Raw Data**\n",
    "In this section, we'll analyze the sentiment of the raw, unprocessed tweets to understand the initial distribution of sentiments.\n"
   ]
  },
  {
   "cell_type": "code",
   "execution_count": 27,
   "metadata": {},
   "outputs": [
    {
     "data": {
      "application/vnd.jupyter.widget-view+json": {
       "model_id": "a278f105cf064e71bd680b8a79e451fe",
       "version_major": 2,
       "version_minor": 0
      },
      "text/plain": [
       "  0%|          | 0/1332 [00:00<?, ?it/s]"
      ]
     },
     "metadata": {},
     "output_type": "display_data"
    },
    {
     "name": "stdout",
     "output_type": "stream",
     "text": [
      "Broke for id 1716344701098307784\n"
     ]
    }
   ],
   "source": [
    "sentiment = {}\n",
    "for i, row in tqdm(data.iterrows(), total=len(data)):\n",
    "    try:\n",
    "        text = row['TEXT']\n",
    "        myid = row['TWEET_ID']\n",
    "        sentiment[myid] = analyze(text)\n",
    "    except RuntimeError:\n",
    "        print(f'Broke for id {myid}')"
   ]
  },
  {
   "cell_type": "code",
   "execution_count": 126,
   "metadata": {},
   "outputs": [],
   "source": [
    "records = [(k, v) for k, v in sentiment.items()]\n",
    "raw_sentiment_df = pd.DataFrame.from_records(records)\n",
    "raw_sentiment_df.rename(columns={0:'TWEET_ID', 1:'RAW SENTIMENT'}, inplace=True)"
   ]
  },
  {
   "cell_type": "code",
   "execution_count": 127,
   "metadata": {},
   "outputs": [
    {
     "data": {
      "text/html": [
       "<div>\n",
       "<style scoped>\n",
       "    .dataframe tbody tr th:only-of-type {\n",
       "        vertical-align: middle;\n",
       "    }\n",
       "\n",
       "    .dataframe tbody tr th {\n",
       "        vertical-align: top;\n",
       "    }\n",
       "\n",
       "    .dataframe thead th {\n",
       "        text-align: right;\n",
       "    }\n",
       "</style>\n",
       "<table border=\"1\" class=\"dataframe\">\n",
       "  <thead>\n",
       "    <tr style=\"text-align: right;\">\n",
       "      <th></th>\n",
       "      <th>TWEET_ID</th>\n",
       "      <th>RAW SENTIMENT</th>\n",
       "    </tr>\n",
       "  </thead>\n",
       "  <tbody>\n",
       "    <tr>\n",
       "      <th>0</th>\n",
       "      <td>1819681803604508810</td>\n",
       "      <td>Positive</td>\n",
       "    </tr>\n",
       "    <tr>\n",
       "      <th>1</th>\n",
       "      <td>1819477474595545568</td>\n",
       "      <td>Neutral</td>\n",
       "    </tr>\n",
       "    <tr>\n",
       "      <th>2</th>\n",
       "      <td>1819379501471535188</td>\n",
       "      <td>Neutral</td>\n",
       "    </tr>\n",
       "    <tr>\n",
       "      <th>3</th>\n",
       "      <td>1819764467078508980</td>\n",
       "      <td>Negative</td>\n",
       "    </tr>\n",
       "    <tr>\n",
       "      <th>4</th>\n",
       "      <td>1819440896863281310</td>\n",
       "      <td>Neutral</td>\n",
       "    </tr>\n",
       "  </tbody>\n",
       "</table>\n",
       "</div>"
      ],
      "text/plain": [
       "              TWEET_ID RAW SENTIMENT\n",
       "0  1819681803604508810      Positive\n",
       "1  1819477474595545568       Neutral\n",
       "2  1819379501471535188       Neutral\n",
       "3  1819764467078508980      Negative\n",
       "4  1819440896863281310       Neutral"
      ]
     },
     "execution_count": 127,
     "metadata": {},
     "output_type": "execute_result"
    }
   ],
   "source": [
    "raw_sentiment_df.head()"
   ]
  },
  {
   "cell_type": "code",
   "execution_count": 129,
   "metadata": {},
   "outputs": [
    {
     "data": {
      "text/plain": [
       "Neutral     731\n",
       "Positive    345\n",
       "Negative    255\n",
       "Name: RAW SENTIMENT, dtype: int64"
      ]
     },
     "execution_count": 129,
     "metadata": {},
     "output_type": "execute_result"
    }
   ],
   "source": [
    "raw_sentiment_df['RAW SENTIMENT'].value_counts()"
   ]
  },
  {
   "cell_type": "markdown",
   "metadata": {},
   "source": [
    "#### **Sentiment Analysis on Cleaned Data**\n",
    "Now, we'll analyze the sentiment of the preprocessed tweets. This analysis helps us understand the impact of data cleaning on sentiment classification.\n"
   ]
  },
  {
   "cell_type": "code",
   "execution_count": 64,
   "metadata": {},
   "outputs": [
    {
     "data": {
      "application/vnd.jupyter.widget-view+json": {
       "model_id": "6d7accb0d7054467b860ecb0dff8e37b",
       "version_major": 2,
       "version_minor": 0
      },
      "text/plain": [
       "  0%|          | 0/1332 [00:00<?, ?it/s]"
      ]
     },
     "metadata": {},
     "output_type": "display_data"
    }
   ],
   "source": [
    "cleaned_sentiment = {}\n",
    "for i, row in tqdm(data.iterrows(), total=len(data)):\n",
    "    try:\n",
    "        text = row['PREPROCESSED_TEXT']\n",
    "        myid = row['TWEET_ID']\n",
    "        cleaned_sentiment[myid] = analyze(text)\n",
    "    except RuntimeError:\n",
    "        print(f'Broke for id {myid}')"
   ]
  },
  {
   "cell_type": "code",
   "execution_count": 130,
   "metadata": {},
   "outputs": [],
   "source": [
    "cleaned_sentiment_df = pd.DataFrame.from_records([(k, v) for k, v in cleaned_sentiment.items()])\n",
    "cleaned_sentiment_df.rename(columns={0:'TWEET_ID', 1:'CLEANED SENTIMENT'}, inplace=True)"
   ]
  },
  {
   "cell_type": "code",
   "execution_count": 132,
   "metadata": {},
   "outputs": [
    {
     "data": {
      "text/html": [
       "<div>\n",
       "<style scoped>\n",
       "    .dataframe tbody tr th:only-of-type {\n",
       "        vertical-align: middle;\n",
       "    }\n",
       "\n",
       "    .dataframe tbody tr th {\n",
       "        vertical-align: top;\n",
       "    }\n",
       "\n",
       "    .dataframe thead th {\n",
       "        text-align: right;\n",
       "    }\n",
       "</style>\n",
       "<table border=\"1\" class=\"dataframe\">\n",
       "  <thead>\n",
       "    <tr style=\"text-align: right;\">\n",
       "      <th></th>\n",
       "      <th>TWEET_ID</th>\n",
       "      <th>CLEANED SENTIMENT</th>\n",
       "    </tr>\n",
       "  </thead>\n",
       "  <tbody>\n",
       "    <tr>\n",
       "      <th>0</th>\n",
       "      <td>1819681803604508810</td>\n",
       "      <td>Neutral</td>\n",
       "    </tr>\n",
       "    <tr>\n",
       "      <th>1</th>\n",
       "      <td>1819477474595545568</td>\n",
       "      <td>Neutral</td>\n",
       "    </tr>\n",
       "    <tr>\n",
       "      <th>2</th>\n",
       "      <td>1819379501471535188</td>\n",
       "      <td>Neutral</td>\n",
       "    </tr>\n",
       "    <tr>\n",
       "      <th>3</th>\n",
       "      <td>1819764467078508980</td>\n",
       "      <td>Negative</td>\n",
       "    </tr>\n",
       "    <tr>\n",
       "      <th>4</th>\n",
       "      <td>1819440896863281310</td>\n",
       "      <td>Neutral</td>\n",
       "    </tr>\n",
       "  </tbody>\n",
       "</table>\n",
       "</div>"
      ],
      "text/plain": [
       "              TWEET_ID CLEANED SENTIMENT\n",
       "0  1819681803604508810           Neutral\n",
       "1  1819477474595545568           Neutral\n",
       "2  1819379501471535188           Neutral\n",
       "3  1819764467078508980          Negative\n",
       "4  1819440896863281310           Neutral"
      ]
     },
     "execution_count": 132,
     "metadata": {},
     "output_type": "execute_result"
    }
   ],
   "source": [
    "cleaned_sentiment_df.head()"
   ]
  },
  {
   "cell_type": "code",
   "execution_count": 131,
   "metadata": {},
   "outputs": [
    {
     "data": {
      "text/plain": [
       "Neutral     1004\n",
       "Positive     190\n",
       "Negative     138\n",
       "Name: CLEANED SENTIMENT, dtype: int64"
      ]
     },
     "execution_count": 131,
     "metadata": {},
     "output_type": "execute_result"
    }
   ],
   "source": [
    "cleaned_sentiment_df['CLEANED SENTIMENT'].value_counts()"
   ]
  },
  {
   "cell_type": "markdown",
   "metadata": {},
   "source": [
    "### **RESULTS AND EVALUATION**\n",
    "Finally, we'll compare the performance of the sentiment analysis on the raw vs. cleaned data using classification metrics. This will help us evaluate the effectiveness of the preprocessing steps.\n"
   ]
  },
  {
   "cell_type": "code",
   "execution_count": 159,
   "metadata": {},
   "outputs": [],
   "source": [
    "# merging the various sentiment datasets into one\n",
    "classified_tweets = tweets.merge(raw_sentiment_df, how='left')\n",
    "classified_tweets = classified_tweets.merge(cleaned_sentiment_df, how='left')"
   ]
  },
  {
   "cell_type": "code",
   "execution_count": 137,
   "metadata": {},
   "outputs": [
    {
     "data": {
      "image/png": "[encoded data removed]",
      "text/plain": [
       "<Figure size 1000x500 with 2 Axes>"
      ]
     },
     "metadata": {},
     "output_type": "display_data"
    }
   ],
   "source": [
    "fig, ax = plt.subplots(1,2, figsize=(10,5))\n",
    "sns.countplot(classified_tweets['RAW SENTIMENT'], ax=ax[0])\n",
    "sns.countplot(classified_tweets['CLEANED SENTIMENT'], ax=ax[1])\n",
    "fig.suptitle('Distribution of Sentiment (Raw vs Cleaned)')\n",
    "plt.tight_layout()"
   ]
  },
  {
   "cell_type": "code",
   "execution_count": 153,
   "metadata": {},
   "outputs": [
    {
     "data": {
      "text/plain": [
       "<matplotlib.legend.Legend at 0x20783e96290>"
      ]
     },
     "execution_count": 153,
     "metadata": {},
     "output_type": "execute_result"
    },
    {
     "data": {
      "image/png": "[encoded data removed]",
      "text/plain": [
       "<Figure size 1300x600 with 2 Axes>"
      ]
     },
     "metadata": {},
     "output_type": "display_data"
    }
   ],
   "source": [
    "fig, ax = plt.subplots(1,2, figsize=(13,6))\n",
    "\n",
    "ax[0].pie(classified_tweets['RAW SENTIMENT'].value_counts(),labels=classified_tweets['RAW SENTIMENT'].value_counts().index,\n",
    "        autopct='%1.1f%%')\n",
    "ax[0].axis('equal')\n",
    "ax[0].set_title('Distribution of Sentiment (Raw Tweets)')\n",
    "\n",
    "\n",
    "ax[1].pie(classified_tweets['CLEANED SENTIMENT'].value_counts(),labels=classified_tweets['CLEANED SENTIMENT'].value_counts().index,\n",
    "        autopct='%1.1f%%')\n",
    "ax[1].axis('equal')\n",
    "ax[1].set_title('Distribution of Sentiment (Cleaned Tweets)')\n",
    "plt.legend()"
   ]
  },
  {
   "cell_type": "code",
   "execution_count": 138,
   "metadata": {},
   "outputs": [],
   "source": [
    "# saving the dataset to manually compare the correctness of the sentiment\n",
    "sample_tweets = classified_tweets[['TWEET_ID', 'TEXT', 'PREPROCESSED_TEXT', 'RAW SENTIMENT', 'CLEANED SENTIMENT']]\n",
    "sample_tweets.to_csv('sample_tweets.csv', index=False)"
   ]
  },
  {
   "cell_type": "markdown",
   "metadata": {},
   "source": [
    "filter through the dataset to compare the sentiments manually"
   ]
  },
  {
   "cell_type": "code",
   "execution_count": 140,
   "metadata": {},
   "outputs": [
    {
     "data": {
      "application/vnd.jupyter.widget-view+json": {
       "model_id": "9d81df69eed64f28bbd8e50d974a17a7",
       "version_major": 2,
       "version_minor": 0
      },
      "text/plain": [
       "interactive(children=(Dropdown(description='Filter datset by sentiment:', options=('All', 'Positive', 'Negativ…"
      ]
     },
     "metadata": {},
     "output_type": "display_data"
    },
    {
     "data": {
      "application/vnd.jupyter.widget-view+json": {
       "model_id": "df31c008b0724a509f11ed4d454558ef",
       "version_major": 2,
       "version_minor": 0
      },
      "text/plain": [
       "Dropdown(description='Filter datset by sentiment:', options=('All', 'Positive', 'Negative', 'Neutral'), value=…"
      ]
     },
     "metadata": {},
     "output_type": "display_data"
    }
   ],
   "source": [
    "sentiment_dropdown = widgets.Dropdown(\n",
    "    options=['All', 'Positive', 'Negative', 'Neutral'],\n",
    "    value='All',\n",
    "    description='Filter datset by sentiment:',\n",
    "    disabled=False,\n",
    ")\n",
    "\n",
    "def filter_tweets_by_sentiment(sentiment):\n",
    "    if sentiment == 'All':\n",
    "        filtered_data = sample_tweets\n",
    "    else:\n",
    "        filtered_data = sample_tweets[sample_tweets['RAW SENTIMENT'] == sentiment]\n",
    "    \n",
    "    # Display the filtered data (or a sample)\n",
    "    display(filtered_data.head(10))\n",
    "    \n",
    "\n",
    "widgets.interact(filter_tweets_by_sentiment, sentiment=sentiment_dropdown)\n",
    "\n",
    "# Display the widget\n",
    "display(sentiment_dropdown)"
   ]
  },
  {
   "cell_type": "markdown",
   "metadata": {},
   "source": [
    "### **OUTPUT DATASET**\n",
    "The output dataset contains two new columns - **[RAW SENTIMENT and CLEANED SENTIMENT]** added to the original dataset. The values in these columns are typically categorized as Positive, Negative, or Neutral, depending on the model's prediction on the raw and preprocessed tweets respectively"
   ]
  },
  {
   "cell_type": "code",
   "execution_count": 161,
   "metadata": {},
   "outputs": [],
   "source": [
    "classified_tweets.to_csv('classified_tweets.csv', index=False)"
   ]
  }
 ],
 "metadata": {
  "kernelspec": {
   "display_name": "Python 3 (ipykernel)",
   "language": "python",
   "name": "python3"
  },
  "language_info": {
   "codemirror_mode": {
    "name": "ipython",
    "version": 3
   },
   "file_extension": ".py",
   "mimetype": "text/x-python",
   "name": "python",
   "nbconvert_exporter": "python",
   "pygments_lexer": "ipython3",
   "version": "3.10.4"
  }
 },
 "nbformat": 4,
 "nbformat_minor": 2
}
